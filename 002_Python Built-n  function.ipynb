{
 "cells": [
  {
   "cell_type": "markdown",
   "metadata": {},
   "source": [
    "#### Function \n",
    "\n",
    "==>> Collection of statement to do any one specific task\n",
    "\n",
    "#### Types\n",
    "\n",
    "1. User Defined Function  ---->> Programmer can defined --> will discuss later sessions\n",
    "\n",
    "2. Pre-Defined Function  ------>> Which are already defined ---> We can simple use it\n",
    "\n",
    "    a. raw_input() --->>  to read the data from keyboard  --->> works on only python 2\n",
    "    \n",
    "    b. type()  - ----->>  to return the data type\n",
    "    \n",
    "    c. id() ----------->> to return the memory location\n",
    "    \n",
    "    d. print()  -------->> display the data on monitors"
   ]
  },
  {
   "cell_type": "code",
   "execution_count": 2,
   "metadata": {},
   "outputs": [
    {
     "name": "stdout",
     "output_type": "stream",
     "text": [
      "enter int : 456\n",
      "data in var :  456\n",
      "memory loc  :  84254392\n",
      "<type 'str'>\n"
     ]
    }
   ],
   "source": [
    "# wap read int by raw_input fun and display data ,memory loc , datatype\n",
    "\n",
    "var  =   raw_input( \"enter int : \") # raw_input is takes any data type element but return the str format\n",
    "print \"data in var : \",var\n",
    "print \"memory loc  : \",id(var)\n",
    "print(type(var))"
   ]
  },
  {
   "cell_type": "code",
   "execution_count": 3,
   "metadata": {},
   "outputs": [
    {
     "name": "stdout",
     "output_type": "stream",
     "text": [
      "enter float : 234.234343\n",
      "data in var :  234.234343\n",
      "memory loc  :  84550256\n",
      "<type 'str'>\n"
     ]
    }
   ],
   "source": [
    "# wap read float by raw_input fun and display data ,memory loc , datatype\n",
    "\n",
    "var  =   raw_input( \"enter float : \") # raw_input is takes any data type element but return the str format\n",
    "print \"data in var : \",var\n",
    "print \"memory loc  : \",id(var)\n",
    "print(type(var))"
   ]
  },
  {
   "cell_type": "code",
   "execution_count": 4,
   "metadata": {},
   "outputs": [
    {
     "name": "stdout",
     "output_type": "stream",
     "text": [
      "enter complex : 12 +  5j\n",
      "data in var :  12 +  5j\n",
      "memory loc  :  84550496\n",
      "<type 'str'>\n"
     ]
    }
   ],
   "source": [
    "# wap read complex by raw_input fun and display data ,memory loc , datatype\n",
    "\n",
    "var  =   raw_input( \"enter complex : \") # raw_input is takes any data type element but return the str format\n",
    "print \"data in var : \",var\n",
    "print \"memory loc  : \",id(var)\n",
    "print(type(var))"
   ]
  },
  {
   "cell_type": "code",
   "execution_count": 5,
   "metadata": {},
   "outputs": [
    {
     "name": "stdout",
     "output_type": "stream",
     "text": [
      "enter bool : True\n",
      "data in var :  True\n",
      "memory loc  :  84254312\n",
      "<type 'str'>\n"
     ]
    }
   ],
   "source": [
    "# wap read bool by raw_input fun and display data ,memory loc , datatype\n",
    "\n",
    "var  =   raw_input( \"enter bool : \") # raw_input is takes any data type element but return the str format\n",
    "print \"data in var : \",var\n",
    "print \"memory loc  : \",id(var)\n",
    "print(type(var))"
   ]
  },
  {
   "cell_type": "code",
   "execution_count": 6,
   "metadata": {},
   "outputs": [
    {
     "name": "stdout",
     "output_type": "stream",
     "text": [
      "enter None : None\n",
      "data in var :  None\n",
      "memory loc  :  84254472\n",
      "<type 'str'>\n"
     ]
    }
   ],
   "source": [
    "# wap read None by raw_input fun and display data ,memory loc , datatype\n",
    "\n",
    "var  =   raw_input( \"enter None : \") # raw_input is takes any data type element but return the str format\n",
    "print \"data in var : \",var\n",
    "print \"memory loc  : \",id(var)\n",
    "print(type(var))"
   ]
  },
  {
   "cell_type": "code",
   "execution_count": 7,
   "metadata": {},
   "outputs": [
    {
     "name": "stdout",
     "output_type": "stream",
     "text": [
      "enter str : \"python\"\n",
      "data in var :  \"python\"\n",
      "memory loc  :  84552752\n",
      "<type 'str'>\n"
     ]
    }
   ],
   "source": [
    "# wap read str by raw_input fun and display data ,memory loc , datatype\n",
    "\n",
    "var  =   raw_input( \"enter str : \") # raw_input is takes any data type element but return the str format\n",
    "print \"data in var : \",var\n",
    "print \"memory loc  : \",id(var)\n",
    "print(type(var))"
   ]
  },
  {
   "cell_type": "code",
   "execution_count": 8,
   "metadata": {},
   "outputs": [
    {
     "name": "stdout",
     "output_type": "stream",
     "text": [
      "enter list : [12,34.55,4+5j,True]\n",
      "data in var :  [12,34.55,4+5j,True]\n",
      "memory loc  :  84730352\n",
      "<type 'str'>\n"
     ]
    }
   ],
   "source": [
    "# wap read list by raw_input fun and display data ,memory loc , datatype\n",
    "\n",
    "var  =   raw_input( \"enter list : \") # raw_input is takes any data type element but return the str format\n",
    "print \"data in var : \",var\n",
    "print \"memory loc  : \",id(var)\n",
    "print(type(var))"
   ]
  },
  {
   "cell_type": "code",
   "execution_count": 9,
   "metadata": {},
   "outputs": [
    {
     "name": "stdout",
     "output_type": "stream",
     "text": [
      "enter int : 789\n",
      "data in var :  789\n",
      "memory loc  :  77260136\n",
      "<type 'int'>\n"
     ]
    }
   ],
   "source": [
    "# input() --->> data from any type it can read it\n",
    "\n",
    "# wap read int by input fun and display data ,memory loc , datatype\n",
    "\n",
    "var  =  input( \"enter int : \") \n",
    "print \"data in var : \",var\n",
    "print \"memory loc  : \",id(var)\n",
    "print(type(var))"
   ]
  },
  {
   "cell_type": "code",
   "execution_count": 10,
   "metadata": {},
   "outputs": [
    {
     "name": "stdout",
     "output_type": "stream",
     "text": [
      "enter float : 23.34353\n",
      "data in var :  23.34353\n",
      "memory loc  :  77262536\n",
      "<type 'float'>\n"
     ]
    }
   ],
   "source": [
    "# input() --->> data from any type it can read it\n",
    "\n",
    "# wap read float by input fun and display data ,memory loc , datatype\n",
    "\n",
    "var  =  input( \"enter float : \") \n",
    "print \"data in var : \",var\n",
    "print \"memory loc  : \",id(var)\n",
    "print(type(var))"
   ]
  },
  {
   "cell_type": "code",
   "execution_count": 11,
   "metadata": {},
   "outputs": [
    {
     "name": "stdout",
     "output_type": "stream",
     "text": [
      "enter float : 78.6564\n",
      "78.6564\n",
      "<type 'float'>\n",
      "78\n",
      "<type 'int'>\n"
     ]
    }
   ],
   "source": [
    "# daatatype convertion function\n",
    "# int()\n",
    "'''\n",
    "float ===>> success\n",
    "complex ==> Type Error\n",
    "bool   ===> Success\n",
    "None   ===> Type Error\n",
    "str =====>> Success , Value Error ---> Depends on data\n",
    "list ===>>> Type Error\n",
    "tuple====> Type Error\n",
    "set =====> Type Error\n",
    "dict=====> Type Error\n",
    "'''\n",
    "# float()\n",
    "'''\n",
    "int ===>> \n",
    "complex ==> \n",
    "bool   ===> \n",
    "None   ===> \n",
    "str =====>> \n",
    "list ===>>>\n",
    "tuple====> \n",
    "set =====> \n",
    "dict=====> \n",
    "'''\n",
    "# complex()\n",
    "'''\n",
    "float ===>> \n",
    "int ==> \n",
    "bool   ===> \n",
    "None   ===> \n",
    "str =====>> \n",
    "list ===>>>\n",
    "tuple====> \n",
    "set =====> \n",
    "dict=====> \n",
    "'''\n",
    "# bool()\n",
    "'''\n",
    "float ===>> \n",
    "complex ==> \n",
    "int   ===> \n",
    "None   ===> \n",
    "str =====>> \n",
    "list ===>>>\n",
    "tuple====> \n",
    "set =====> \n",
    "dict=====> \n",
    "'''\n",
    "# str()\n",
    "'''\n",
    "float ===>> \n",
    "complex ==> \n",
    "bool   ===> \n",
    "None   ===> \n",
    "int =====>> \n",
    "list ===>>>\n",
    "tuple====> \n",
    "set =====> \n",
    "dict=====> \n",
    "'''\n",
    "# list()\n",
    "'''\n",
    "float ===>> \n",
    "complex ==> \n",
    "bool   ===> \n",
    "None   ===> \n",
    "str =====>> \n",
    "int ===>>>\n",
    "tuple====> \n",
    "set =====> \n",
    "dict=====> \n",
    "'''\n",
    "# tuple()\n",
    "'''\n",
    "float ===>> \n",
    "complex ==> \n",
    "bool   ===> \n",
    "None   ===> \n",
    "str =====>> \n",
    "list ===>>>\n",
    "int====> \n",
    "set =====> \n",
    "dict=====> \n",
    "'''\n",
    "# set()\n",
    "'''\n",
    "float ===>> \n",
    "complex ==> \n",
    "bool   ===> \n",
    "None   ===> \n",
    "str =====>> \n",
    "list ===>>>\n",
    "tuple====> \n",
    "int =====> \n",
    "dict=====> \n",
    "'''\n",
    "# dict()\n",
    "'''\n",
    "float ===>> \n",
    "complex ==> \n",
    "bool   ===> \n",
    "None   ===> \n",
    "str =====>> \n",
    "list ===>>>\n",
    "tuple====> \n",
    "set =====> \n",
    "int=====> \n",
    "'''\n",
    "######## int()#######\n",
    "var = input(\"enter float : \")\n",
    "print var\n",
    "print type(var)\n",
    "var = int(var)\n",
    "print var\n",
    "print type(var)"
   ]
  },
  {
   "cell_type": "code",
   "execution_count": 12,
   "metadata": {},
   "outputs": [
    {
     "name": "stdout",
     "output_type": "stream",
     "text": [
      "enter complex : 2+4j\n",
      "(2+4j)\n",
      "<type 'complex'>\n"
     ]
    },
    {
     "ename": "TypeError",
     "evalue": "can't convert complex to int",
     "output_type": "error",
     "traceback": [
      "\u001b[1;31m---------------------------------------------------------------------------\u001b[0m",
      "\u001b[1;31mTypeError\u001b[0m                                 Traceback (most recent call last)",
      "\u001b[1;32m<ipython-input-12-bdeb575689aa>\u001b[0m in \u001b[0;36m<module>\u001b[1;34m()\u001b[0m\n\u001b[0;32m      2\u001b[0m \u001b[1;32mprint\u001b[0m \u001b[0mvar\u001b[0m\u001b[1;33m\u001b[0m\u001b[0m\n\u001b[0;32m      3\u001b[0m \u001b[1;32mprint\u001b[0m \u001b[0mtype\u001b[0m\u001b[1;33m(\u001b[0m\u001b[0mvar\u001b[0m\u001b[1;33m)\u001b[0m\u001b[1;33m\u001b[0m\u001b[0m\n\u001b[1;32m----> 4\u001b[1;33m \u001b[0mvar\u001b[0m \u001b[1;33m=\u001b[0m \u001b[0mint\u001b[0m\u001b[1;33m(\u001b[0m\u001b[0mvar\u001b[0m\u001b[1;33m)\u001b[0m\u001b[1;33m\u001b[0m\u001b[0m\n\u001b[0m\u001b[0;32m      5\u001b[0m \u001b[1;32mprint\u001b[0m \u001b[0mvar\u001b[0m\u001b[1;33m\u001b[0m\u001b[0m\n\u001b[0;32m      6\u001b[0m \u001b[1;32mprint\u001b[0m \u001b[0mtype\u001b[0m\u001b[1;33m(\u001b[0m\u001b[0mvar\u001b[0m\u001b[1;33m)\u001b[0m\u001b[1;33m\u001b[0m\u001b[0m\n",
      "\u001b[1;31mTypeError\u001b[0m: can't convert complex to int"
     ]
    }
   ],
   "source": [
    "var = input(\"enter complex : \")\n",
    "print var\n",
    "print type(var)\n",
    "var = int(var)\n",
    "print var\n",
    "print type(var)"
   ]
  },
  {
   "cell_type": "code",
   "execution_count": 13,
   "metadata": {},
   "outputs": [
    {
     "name": "stdout",
     "output_type": "stream",
     "text": [
      "enter bool : True\n",
      "True\n",
      "<type 'bool'>\n",
      "1\n",
      "<type 'int'>\n"
     ]
    }
   ],
   "source": [
    "var = input(\"enter bool : \")\n",
    "print var\n",
    "print type(var)\n",
    "var = int(var)\n",
    "print var\n",
    "print type(var)"
   ]
  },
  {
   "cell_type": "code",
   "execution_count": 14,
   "metadata": {},
   "outputs": [
    {
     "name": "stdout",
     "output_type": "stream",
     "text": [
      "enter None : None\n",
      "None\n",
      "<type 'NoneType'>\n"
     ]
    },
    {
     "ename": "TypeError",
     "evalue": "int() argument must be a string or a number, not 'NoneType'",
     "output_type": "error",
     "traceback": [
      "\u001b[1;31m---------------------------------------------------------------------------\u001b[0m",
      "\u001b[1;31mTypeError\u001b[0m                                 Traceback (most recent call last)",
      "\u001b[1;32m<ipython-input-14-81fd682fd888>\u001b[0m in \u001b[0;36m<module>\u001b[1;34m()\u001b[0m\n\u001b[0;32m      2\u001b[0m \u001b[1;32mprint\u001b[0m \u001b[0mvar\u001b[0m\u001b[1;33m\u001b[0m\u001b[0m\n\u001b[0;32m      3\u001b[0m \u001b[1;32mprint\u001b[0m \u001b[0mtype\u001b[0m\u001b[1;33m(\u001b[0m\u001b[0mvar\u001b[0m\u001b[1;33m)\u001b[0m\u001b[1;33m\u001b[0m\u001b[0m\n\u001b[1;32m----> 4\u001b[1;33m \u001b[0mvar\u001b[0m \u001b[1;33m=\u001b[0m \u001b[0mint\u001b[0m\u001b[1;33m(\u001b[0m\u001b[0mvar\u001b[0m\u001b[1;33m)\u001b[0m\u001b[1;33m\u001b[0m\u001b[0m\n\u001b[0m\u001b[0;32m      5\u001b[0m \u001b[1;32mprint\u001b[0m \u001b[0mvar\u001b[0m\u001b[1;33m\u001b[0m\u001b[0m\n\u001b[0;32m      6\u001b[0m \u001b[1;32mprint\u001b[0m \u001b[0mtype\u001b[0m\u001b[1;33m(\u001b[0m\u001b[0mvar\u001b[0m\u001b[1;33m)\u001b[0m\u001b[1;33m\u001b[0m\u001b[0m\n",
      "\u001b[1;31mTypeError\u001b[0m: int() argument must be a string or a number, not 'NoneType'"
     ]
    }
   ],
   "source": [
    "var = input(\"enter None : \")\n",
    "print var\n",
    "print type(var)\n",
    "var = int(var)\n",
    "print var\n",
    "print type(var)"
   ]
  },
  {
   "cell_type": "code",
   "execution_count": 15,
   "metadata": {},
   "outputs": [
    {
     "name": "stdout",
     "output_type": "stream",
     "text": [
      "enter Str : \"123456\"\n",
      "123456\n",
      "<type 'str'>\n",
      "123456\n",
      "<type 'int'>\n"
     ]
    }
   ],
   "source": [
    "var = input(\"enter Str : \")\n",
    "print var\n",
    "print type(var)\n",
    "var = int(var)\n",
    "print var\n",
    "print type(var)"
   ]
  },
  {
   "cell_type": "code",
   "execution_count": 16,
   "metadata": {},
   "outputs": [
    {
     "name": "stdout",
     "output_type": "stream",
     "text": [
      "enter Str : \"23fggd\"\n",
      "23fggd\n",
      "<type 'str'>\n"
     ]
    },
    {
     "ename": "ValueError",
     "evalue": "invalid literal for int() with base 10: '23fggd'",
     "output_type": "error",
     "traceback": [
      "\u001b[1;31m---------------------------------------------------------------------------\u001b[0m",
      "\u001b[1;31mValueError\u001b[0m                                Traceback (most recent call last)",
      "\u001b[1;32m<ipython-input-16-f53703106a68>\u001b[0m in \u001b[0;36m<module>\u001b[1;34m()\u001b[0m\n\u001b[0;32m      2\u001b[0m \u001b[1;32mprint\u001b[0m \u001b[0mvar\u001b[0m\u001b[1;33m\u001b[0m\u001b[0m\n\u001b[0;32m      3\u001b[0m \u001b[1;32mprint\u001b[0m \u001b[0mtype\u001b[0m\u001b[1;33m(\u001b[0m\u001b[0mvar\u001b[0m\u001b[1;33m)\u001b[0m\u001b[1;33m\u001b[0m\u001b[0m\n\u001b[1;32m----> 4\u001b[1;33m \u001b[0mvar\u001b[0m \u001b[1;33m=\u001b[0m \u001b[0mint\u001b[0m\u001b[1;33m(\u001b[0m\u001b[0mvar\u001b[0m\u001b[1;33m)\u001b[0m\u001b[1;33m\u001b[0m\u001b[0m\n\u001b[0m\u001b[0;32m      5\u001b[0m \u001b[1;32mprint\u001b[0m \u001b[0mvar\u001b[0m\u001b[1;33m\u001b[0m\u001b[0m\n\u001b[0;32m      6\u001b[0m \u001b[1;32mprint\u001b[0m \u001b[0mtype\u001b[0m\u001b[1;33m(\u001b[0m\u001b[0mvar\u001b[0m\u001b[1;33m)\u001b[0m\u001b[1;33m\u001b[0m\u001b[0m\n",
      "\u001b[1;31mValueError\u001b[0m: invalid literal for int() with base 10: '23fggd'"
     ]
    }
   ],
   "source": [
    "var = input(\"enter Str : \")\n",
    "print var\n",
    "print type(var)\n",
    "var = int(var)\n",
    "print var\n",
    "print type(var)"
   ]
  },
  {
   "cell_type": "code",
   "execution_count": 17,
   "metadata": {},
   "outputs": [
    {
     "name": "stdout",
     "output_type": "stream",
     "text": [
      "enter list : [1,23]\n",
      "[1, 23]\n",
      "<type 'list'>\n"
     ]
    },
    {
     "ename": "TypeError",
     "evalue": "int() argument must be a string or a number, not 'list'",
     "output_type": "error",
     "traceback": [
      "\u001b[1;31m---------------------------------------------------------------------------\u001b[0m",
      "\u001b[1;31mTypeError\u001b[0m                                 Traceback (most recent call last)",
      "\u001b[1;32m<ipython-input-17-adfb68b514e8>\u001b[0m in \u001b[0;36m<module>\u001b[1;34m()\u001b[0m\n\u001b[0;32m      2\u001b[0m \u001b[1;32mprint\u001b[0m \u001b[0mvar\u001b[0m\u001b[1;33m\u001b[0m\u001b[0m\n\u001b[0;32m      3\u001b[0m \u001b[1;32mprint\u001b[0m \u001b[0mtype\u001b[0m\u001b[1;33m(\u001b[0m\u001b[0mvar\u001b[0m\u001b[1;33m)\u001b[0m\u001b[1;33m\u001b[0m\u001b[0m\n\u001b[1;32m----> 4\u001b[1;33m \u001b[0mvar\u001b[0m \u001b[1;33m=\u001b[0m \u001b[0mint\u001b[0m\u001b[1;33m(\u001b[0m\u001b[0mvar\u001b[0m\u001b[1;33m)\u001b[0m\u001b[1;33m\u001b[0m\u001b[0m\n\u001b[0m\u001b[0;32m      5\u001b[0m \u001b[1;32mprint\u001b[0m \u001b[0mvar\u001b[0m\u001b[1;33m\u001b[0m\u001b[0m\n\u001b[0;32m      6\u001b[0m \u001b[1;32mprint\u001b[0m \u001b[0mtype\u001b[0m\u001b[1;33m(\u001b[0m\u001b[0mvar\u001b[0m\u001b[1;33m)\u001b[0m\u001b[1;33m\u001b[0m\u001b[0m\n",
      "\u001b[1;31mTypeError\u001b[0m: int() argument must be a string or a number, not 'list'"
     ]
    }
   ],
   "source": [
    "var = input(\"enter list : \")\n",
    "print var\n",
    "print type(var)\n",
    "var = int(var)\n",
    "print var\n",
    "print type(var)"
   ]
  },
  {
   "cell_type": "code",
   "execution_count": 18,
   "metadata": {},
   "outputs": [
    {
     "name": "stdout",
     "output_type": "stream",
     "text": [
      "enter tuple : (1,2,4)\n",
      "(1, 2, 4)\n",
      "<type 'tuple'>\n"
     ]
    },
    {
     "ename": "TypeError",
     "evalue": "int() argument must be a string or a number, not 'tuple'",
     "output_type": "error",
     "traceback": [
      "\u001b[1;31m---------------------------------------------------------------------------\u001b[0m",
      "\u001b[1;31mTypeError\u001b[0m                                 Traceback (most recent call last)",
      "\u001b[1;32m<ipython-input-18-a8fe1ffa2fdd>\u001b[0m in \u001b[0;36m<module>\u001b[1;34m()\u001b[0m\n\u001b[0;32m      2\u001b[0m \u001b[1;32mprint\u001b[0m \u001b[0mvar\u001b[0m\u001b[1;33m\u001b[0m\u001b[0m\n\u001b[0;32m      3\u001b[0m \u001b[1;32mprint\u001b[0m \u001b[0mtype\u001b[0m\u001b[1;33m(\u001b[0m\u001b[0mvar\u001b[0m\u001b[1;33m)\u001b[0m\u001b[1;33m\u001b[0m\u001b[0m\n\u001b[1;32m----> 4\u001b[1;33m \u001b[0mvar\u001b[0m \u001b[1;33m=\u001b[0m \u001b[0mint\u001b[0m\u001b[1;33m(\u001b[0m\u001b[0mvar\u001b[0m\u001b[1;33m)\u001b[0m\u001b[1;33m\u001b[0m\u001b[0m\n\u001b[0m\u001b[0;32m      5\u001b[0m \u001b[1;32mprint\u001b[0m \u001b[0mvar\u001b[0m\u001b[1;33m\u001b[0m\u001b[0m\n\u001b[0;32m      6\u001b[0m \u001b[1;32mprint\u001b[0m \u001b[0mtype\u001b[0m\u001b[1;33m(\u001b[0m\u001b[0mvar\u001b[0m\u001b[1;33m)\u001b[0m\u001b[1;33m\u001b[0m\u001b[0m\n",
      "\u001b[1;31mTypeError\u001b[0m: int() argument must be a string or a number, not 'tuple'"
     ]
    }
   ],
   "source": [
    "var = input(\"enter tuple : \")\n",
    "print var\n",
    "print type(var)\n",
    "var = int(var)\n",
    "print var\n",
    "print type(var)"
   ]
  },
  {
   "cell_type": "code",
   "execution_count": 19,
   "metadata": {},
   "outputs": [
    {
     "name": "stdout",
     "output_type": "stream",
     "text": [
      "enter Set : {12,45}\n",
      "set([12, 45])\n",
      "<type 'set'>\n"
     ]
    },
    {
     "ename": "TypeError",
     "evalue": "int() argument must be a string or a number, not 'set'",
     "output_type": "error",
     "traceback": [
      "\u001b[1;31m---------------------------------------------------------------------------\u001b[0m",
      "\u001b[1;31mTypeError\u001b[0m                                 Traceback (most recent call last)",
      "\u001b[1;32m<ipython-input-19-acbe322a3ea2>\u001b[0m in \u001b[0;36m<module>\u001b[1;34m()\u001b[0m\n\u001b[0;32m      2\u001b[0m \u001b[1;32mprint\u001b[0m \u001b[0mvar\u001b[0m\u001b[1;33m\u001b[0m\u001b[0m\n\u001b[0;32m      3\u001b[0m \u001b[1;32mprint\u001b[0m \u001b[0mtype\u001b[0m\u001b[1;33m(\u001b[0m\u001b[0mvar\u001b[0m\u001b[1;33m)\u001b[0m\u001b[1;33m\u001b[0m\u001b[0m\n\u001b[1;32m----> 4\u001b[1;33m \u001b[0mvar\u001b[0m \u001b[1;33m=\u001b[0m \u001b[0mint\u001b[0m\u001b[1;33m(\u001b[0m\u001b[0mvar\u001b[0m\u001b[1;33m)\u001b[0m\u001b[1;33m\u001b[0m\u001b[0m\n\u001b[0m\u001b[0;32m      5\u001b[0m \u001b[1;32mprint\u001b[0m \u001b[0mvar\u001b[0m\u001b[1;33m\u001b[0m\u001b[0m\n\u001b[0;32m      6\u001b[0m \u001b[1;32mprint\u001b[0m \u001b[0mtype\u001b[0m\u001b[1;33m(\u001b[0m\u001b[0mvar\u001b[0m\u001b[1;33m)\u001b[0m\u001b[1;33m\u001b[0m\u001b[0m\n",
      "\u001b[1;31mTypeError\u001b[0m: int() argument must be a string or a number, not 'set'"
     ]
    }
   ],
   "source": [
    "var = input(\"enter Set : \")\n",
    "print var\n",
    "print type(var)\n",
    "var = int(var)\n",
    "print var\n",
    "print type(var)"
   ]
  },
  {
   "cell_type": "code",
   "execution_count": 20,
   "metadata": {},
   "outputs": [
    {
     "name": "stdout",
     "output_type": "stream",
     "text": [
      "enter dict: {12:356}\n",
      "{12: 356}\n",
      "<type 'dict'>\n"
     ]
    },
    {
     "ename": "TypeError",
     "evalue": "int() argument must be a string or a number, not 'dict'",
     "output_type": "error",
     "traceback": [
      "\u001b[1;31m---------------------------------------------------------------------------\u001b[0m",
      "\u001b[1;31mTypeError\u001b[0m                                 Traceback (most recent call last)",
      "\u001b[1;32m<ipython-input-20-8afe9f0d706e>\u001b[0m in \u001b[0;36m<module>\u001b[1;34m()\u001b[0m\n\u001b[0;32m      2\u001b[0m \u001b[1;32mprint\u001b[0m \u001b[0mvar\u001b[0m\u001b[1;33m\u001b[0m\u001b[0m\n\u001b[0;32m      3\u001b[0m \u001b[1;32mprint\u001b[0m \u001b[0mtype\u001b[0m\u001b[1;33m(\u001b[0m\u001b[0mvar\u001b[0m\u001b[1;33m)\u001b[0m\u001b[1;33m\u001b[0m\u001b[0m\n\u001b[1;32m----> 4\u001b[1;33m \u001b[0mvar\u001b[0m \u001b[1;33m=\u001b[0m \u001b[0mint\u001b[0m\u001b[1;33m(\u001b[0m\u001b[0mvar\u001b[0m\u001b[1;33m)\u001b[0m\u001b[1;33m\u001b[0m\u001b[0m\n\u001b[0m\u001b[0;32m      5\u001b[0m \u001b[1;32mprint\u001b[0m \u001b[0mvar\u001b[0m\u001b[1;33m\u001b[0m\u001b[0m\n\u001b[0;32m      6\u001b[0m \u001b[1;32mprint\u001b[0m \u001b[0mtype\u001b[0m\u001b[1;33m(\u001b[0m\u001b[0mvar\u001b[0m\u001b[1;33m)\u001b[0m\u001b[1;33m\u001b[0m\u001b[0m\n",
      "\u001b[1;31mTypeError\u001b[0m: int() argument must be a string or a number, not 'dict'"
     ]
    }
   ],
   "source": [
    "var = input(\"enter dict: \")\n",
    "print var\n",
    "print type(var)\n",
    "var = int(var)\n",
    "print var\n",
    "print type(var)"
   ]
  },
  {
   "cell_type": "code",
   "execution_count": null,
   "metadata": {},
   "outputs": [],
   "source": []
  }
 ],
 "metadata": {
  "kernelspec": {
   "display_name": "Python 2",
   "language": "python",
   "name": "python2"
  },
  "language_info": {
   "codemirror_mode": {
    "name": "ipython",
    "version": 2
   },
   "file_extension": ".py",
   "mimetype": "text/x-python",
   "name": "python",
   "nbconvert_exporter": "python",
   "pygments_lexer": "ipython2",
   "version": "2.7.16"
  }
 },
 "nbformat": 4,
 "nbformat_minor": 2
}
