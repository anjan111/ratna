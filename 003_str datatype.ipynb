{
 "cells": [
  {
   "cell_type": "markdown",
   "metadata": {},
   "source": [
    "#### str \n",
    "\n",
    "===>> collections of characters    with in    ''  /   \"\"  / ''' ''' / \"\"\"\"\"\""
   ]
  },
  {
   "cell_type": "code",
   "execution_count": 1,
   "metadata": {},
   "outputs": [
    {
     "name": "stdout",
     "output_type": "stream",
     "text": [
      "<type 'str'>\n",
      "<type 'str'>\n",
      "<type 'str'>\n",
      "<type 'str'>\n"
     ]
    }
   ],
   "source": [
    "var = 'python'\n",
    "print type(var)\n",
    "var = \"python\"\n",
    "print type(var)\n",
    "var = '''python'''\n",
    "print type(var)\n",
    "var = \"\"\"python\"\"\"\n",
    "print type(var)"
   ]
  },
  {
   "cell_type": "markdown",
   "metadata": {},
   "source": [
    "#### Access the character from string \n",
    "\n",
    "1. indexing  -->   var[index_num] ---> single character\n",
    "\n",
    "2. slicing  --->  var [start_index : stop_index] --->we can access multiple continues character\n",
    "\n",
    "3. dicing  ----> var[start   :  stop  : step ] --->we can access multiple step wise  character"
   ]
  },
  {
   "cell_type": "code",
   "execution_count": 2,
   "metadata": {},
   "outputs": [
    {
     "name": "stdout",
     "output_type": "stream",
     "text": [
      "index start from 0 end with  len -1\n",
      "p\n",
      "y\n",
      "t\n",
      "h\n",
      "o\n",
      "n\n"
     ]
    }
   ],
   "source": [
    "var  = \"python\"\n",
    "print \"postive / forward indexing\"\n",
    "print \"index start from 0 end with  len -1\"\n",
    "print var[0]\n",
    "print var[1]\n",
    "print var[2]\n",
    "print var[3]\n",
    "print var[4]\n",
    "print var[5]"
   ]
  },
  {
   "cell_type": "code",
   "execution_count": 3,
   "metadata": {},
   "outputs": [
    {
     "name": "stdout",
     "output_type": "stream",
     "text": [
      "Negative / backword indexing\n",
      "index start from -1 end with  -len\n",
      "n\n",
      "o\n",
      "h\n",
      "t\n",
      "y\n",
      "p\n"
     ]
    }
   ],
   "source": [
    "var  = \"python\"\n",
    "print \"Negative / backword indexing\"\n",
    "print \"index start from -1 end with  -len\"\n",
    "print var[-1]\n",
    "print var[-2]\n",
    "print var[-3]\n",
    "print var[-4]\n",
    "print var[-5]\n",
    "print var[-6]"
   ]
  },
  {
   "cell_type": "code",
   "execution_count": 5,
   "metadata": {},
   "outputs": [
    {
     "name": "stdout",
     "output_type": "stream",
     "text": [
      "programming\n",
      "python programming\n",
      "python programming\n",
      "programming language\n",
      "programming language\n"
     ]
    }
   ],
   "source": [
    "# str slicing   var [ start : stop]\n",
    "'''\n",
    "start  ---> 0\n",
    "stop   ---> len of str\n",
    "'''\n",
    "var = \"python programming language\"\n",
    "print var[7:18]\n",
    "print var[:18]\n",
    "print var[0:18]\n",
    "print var[7:]\n",
    "print var[7:27]"
   ]
  },
  {
   "cell_type": "code",
   "execution_count": 8,
   "metadata": {},
   "outputs": [
    {
     "name": "stdout",
     "output_type": "stream",
     "text": [
      "ph oai \n",
      "pto rgamn \n",
      "on programming L\n",
      "oomLu\n"
     ]
    }
   ],
   "source": [
    "# str dicing   var[ start :  stop  :  step]\n",
    "'''\n",
    "start ---> 0\n",
    "stop  ---> len\n",
    "step ----> 1\n",
    "'''\n",
    "var = \"python programming Langauge\"\n",
    "print var[0:20:3]# 0,3,6,9,12,15,18\n",
    "print var[:20:2]# 0,2,4,6,8,10,12,14,16,18\n",
    "print var[4:20:]# 4 to 19\n",
    "print var[4::5]# 4,9,14,19,24"
   ]
  },
  {
   "cell_type": "code",
   "execution_count": 9,
   "metadata": {},
   "outputs": [
    {
     "name": "stdout",
     "output_type": "stream",
     "text": [
      "p\n"
     ]
    },
    {
     "ename": "TypeError",
     "evalue": "'str' object does not support item assignment",
     "output_type": "error",
     "traceback": [
      "\u001b[1;31m---------------------------------------------------------------------------\u001b[0m",
      "\u001b[1;31mTypeError\u001b[0m                                 Traceback (most recent call last)",
      "\u001b[1;32m<ipython-input-9-fc534550799a>\u001b[0m in \u001b[0;36m<module>\u001b[1;34m()\u001b[0m\n\u001b[0;32m      2\u001b[0m \u001b[0mvar\u001b[0m \u001b[1;33m=\u001b[0m \u001b[1;34m\"python\"\u001b[0m\u001b[1;33m\u001b[0m\u001b[0m\n\u001b[0;32m      3\u001b[0m \u001b[1;32mprint\u001b[0m \u001b[0mvar\u001b[0m\u001b[1;33m[\u001b[0m\u001b[1;36m0\u001b[0m\u001b[1;33m]\u001b[0m\u001b[1;33m\u001b[0m\u001b[0m\n\u001b[1;32m----> 4\u001b[1;33m \u001b[0mvar\u001b[0m\u001b[1;33m[\u001b[0m\u001b[1;36m0\u001b[0m\u001b[1;33m]\u001b[0m\u001b[1;33m=\u001b[0m\u001b[1;34m'P'\u001b[0m\u001b[1;33m\u001b[0m\u001b[0m\n\u001b[0m",
      "\u001b[1;31mTypeError\u001b[0m: 'str' object does not support item assignment"
     ]
    }
   ],
   "source": [
    "### we can't modify str data ---->> immutable datatype\n",
    "var = \"python\"\n",
    "print var[0]\n",
    "var[0]='P'"
   ]
  },
  {
   "cell_type": "code",
   "execution_count": 10,
   "metadata": {},
   "outputs": [
    {
     "name": "stdout",
     "output_type": "stream",
     "text": [
      "6\n",
      "h\n",
      "y\n"
     ]
    }
   ],
   "source": [
    "# len () --->> to know the total no of character\n",
    "# min()  --->> to return the smallest character\n",
    "# max()  --->> to return the biggest character\n",
    "var = \"python\"\n",
    "print len(var)\n",
    "print min(var)\n",
    "print max(var)"
   ]
  },
  {
   "cell_type": "code",
   "execution_count": 11,
   "metadata": {},
   "outputs": [
    {
     "name": "stdout",
     "output_type": "stream",
     "text": [
      "97\n",
      "98\n",
      "99\n",
      "121\n",
      "122\n"
     ]
    }
   ],
   "source": [
    "print ord('a')\n",
    "print ord('b')\n",
    "print ord('c')\n",
    "print ord('y')\n",
    "print ord('z')"
   ]
  },
  {
   "cell_type": "code",
   "execution_count": 12,
   "metadata": {},
   "outputs": [
    {
     "name": "stdout",
     "output_type": "stream",
     "text": [
      "65\n",
      "66\n",
      "67\n",
      "89\n",
      "90\n"
     ]
    }
   ],
   "source": [
    "print ord('A')\n",
    "print ord('B')\n",
    "print ord('C')\n",
    "print ord('Y')\n",
    "print ord('Z')"
   ]
  },
  {
   "cell_type": "code",
   "execution_count": 13,
   "metadata": {},
   "outputs": [
    {
     "name": "stdout",
     "output_type": "stream",
     "text": [
      "48\n",
      "49\n",
      "50\n",
      "56\n",
      "57\n"
     ]
    }
   ],
   "source": [
    "print ord('0')\n",
    "print ord('1')\n",
    "print ord('2')\n",
    "print ord('8')\n",
    "print ord('9')"
   ]
  },
  {
   "cell_type": "code",
   "execution_count": 14,
   "metadata": {},
   "outputs": [
    {
     "name": "stdout",
     "output_type": "stream",
     "text": [
      "0\n",
      "1\n",
      "2\n",
      "8\n",
      "9\n"
     ]
    }
   ],
   "source": [
    "print chr(48)\n",
    "print chr(49)\n",
    "print chr(50)\n",
    "print chr(56)\n",
    "print chr(57)"
   ]
  },
  {
   "cell_type": "code",
   "execution_count": 15,
   "metadata": {},
   "outputs": [
    {
     "name": "stdout",
     "output_type": "stream",
     "text": [
      "Help on built-in function ord in module __builtin__:\n",
      "\n",
      "ord(...)\n",
      "    ord(c) -> integer\n",
      "    \n",
      "    Return the integer ordinal of a one-character string.\n",
      "\n"
     ]
    }
   ],
   "source": [
    "help(ord)"
   ]
  },
  {
   "cell_type": "code",
   "execution_count": 16,
   "metadata": {},
   "outputs": [
    {
     "name": "stdout",
     "output_type": "stream",
     "text": [
      "Help on built-in function chr in module __builtin__:\n",
      "\n",
      "chr(...)\n",
      "    chr(i) -> character\n",
      "    \n",
      "    Return a string of one character with ordinal i; 0 <= i < 256.\n",
      "\n"
     ]
    }
   ],
   "source": [
    "help(chr)"
   ]
  },
  {
   "cell_type": "code",
   "execution_count": 17,
   "metadata": {},
   "outputs": [
    {
     "name": "stdout",
     "output_type": "stream",
     "text": [
      "Help on built-in function len in module __builtin__:\n",
      "\n",
      "len(...)\n",
      "    len(object) -> integer\n",
      "    \n",
      "    Return the number of items of a sequence or collection.\n",
      "\n"
     ]
    }
   ],
   "source": [
    "help(len)"
   ]
  },
  {
   "cell_type": "code",
   "execution_count": 18,
   "metadata": {},
   "outputs": [
    {
     "name": "stdout",
     "output_type": "stream",
     "text": [
      "Help on _Helper in module site object:\n",
      "\n",
      "class _Helper(__builtin__.object)\n",
      " |  Define the builtin 'help'.\n",
      " |  This is a wrapper around pydoc.help (with a twist).\n",
      " |  \n",
      " |  Methods defined here:\n",
      " |  \n",
      " |  __call__(self, *args, **kwds)\n",
      " |  \n",
      " |  __repr__(self)\n",
      " |  \n",
      " |  ----------------------------------------------------------------------\n",
      " |  Data descriptors defined here:\n",
      " |  \n",
      " |  __dict__\n",
      " |      dictionary for instance variables (if defined)\n",
      " |  \n",
      " |  __weakref__\n",
      " |      list of weak references to the object (if defined)\n",
      "\n"
     ]
    }
   ],
   "source": [
    "help(help)"
   ]
  },
  {
   "cell_type": "code",
   "execution_count": 19,
   "metadata": {},
   "outputs": [
    {
     "name": "stdout",
     "output_type": "stream",
     "text": [
      "Help on built-in function dir in module __builtin__:\n",
      "\n",
      "dir(...)\n",
      "    dir([object]) -> list of strings\n",
      "    \n",
      "    If called without an argument, return the names in the current scope.\n",
      "    Else, return an alphabetized list of names comprising (some of) the attributes\n",
      "    of the given object, and of attributes reachable from it.\n",
      "    If the object supplies a method named __dir__, it will be used; otherwise\n",
      "    the default dir() logic is used and returns:\n",
      "      for a module object: the module's attributes.\n",
      "      for a class object:  its attributes, and recursively the attributes\n",
      "        of its bases.\n",
      "      for any other object: its attributes, its class's attributes, and\n",
      "        recursively the attributes of its class's base classes.\n",
      "\n"
     ]
    }
   ],
   "source": [
    "help(dir)"
   ]
  },
  {
   "cell_type": "code",
   "execution_count": 21,
   "metadata": {},
   "outputs": [
    {
     "name": "stdout",
     "output_type": "stream",
     "text": [
      "['__add__', '__class__', '__contains__', '__delattr__', '__doc__', '__eq__', '__format__', '__ge__', '__getattribute__', '__getitem__', '__getnewargs__', '__getslice__', '__gt__', '__hash__', '__init__', '__le__', '__len__', '__lt__', '__mod__', '__mul__', '__ne__', '__new__', '__reduce__', '__reduce_ex__', '__repr__', '__rmod__', '__rmul__', '__setattr__', '__sizeof__', '__str__', '__subclasshook__', '_formatter_field_name_split', '_formatter_parser', 'capitalize', 'center', 'count', 'decode', 'encode', 'endswith', 'expandtabs', 'find', 'format', 'index', 'isalnum', 'isalpha', 'isdigit', 'islower', 'isspace', 'istitle', 'isupper', 'join', 'ljust', 'lower', 'lstrip', 'partition', 'replace', 'rfind', 'rindex', 'rjust', 'rpartition', 'rsplit', 'rstrip', 'split', 'splitlines', 'startswith', 'strip', 'swapcase', 'title', 'translate', 'upper', 'zfill']\n"
     ]
    }
   ],
   "source": [
    "print dir(str)"
   ]
  },
  {
   "cell_type": "code",
   "execution_count": null,
   "metadata": {},
   "outputs": [],
   "source": []
  }
 ],
 "metadata": {
  "kernelspec": {
   "display_name": "Python 2",
   "language": "python",
   "name": "python2"
  },
  "language_info": {
   "codemirror_mode": {
    "name": "ipython",
    "version": 2
   },
   "file_extension": ".py",
   "mimetype": "text/x-python",
   "name": "python",
   "nbconvert_exporter": "python",
   "pygments_lexer": "ipython2",
   "version": "2.7.16"
  }
 },
 "nbformat": 4,
 "nbformat_minor": 2
}
