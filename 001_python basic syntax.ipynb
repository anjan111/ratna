{
 "cells": [
  {
   "cell_type": "code",
   "execution_count": 1,
   "metadata": {},
   "outputs": [
    {
     "name": "stdout",
     "output_type": "stream",
     "text": [
      "hello\n",
      "hai\n",
      "bye\n"
     ]
    }
   ],
   "source": [
    "print \"hello\"\n",
    "print \"hai\"\n",
    "print \"bye\""
   ]
  },
  {
   "cell_type": "markdown",
   "metadata": {},
   "source": [
    "#### Syntax\n",
    "\n",
    "#### program\n",
    "\n",
    "#### instruction\n",
    "\n",
    "#### comment \n",
    "\n",
    "#### statement\n",
    "\n",
    "#### keywords\n",
    "\n",
    "#### identifier\n",
    "\n",
    "#### variables\n",
    "\n",
    "#### datatypes"
   ]
  },
  {
   "cell_type": "code",
   "execution_count": 1,
   "metadata": {},
   "outputs": [
    {
     "name": "stdout",
     "output_type": "stream",
     "text": [
      "hello\n",
      "hai\n",
      "bye\n"
     ]
    }
   ],
   "source": [
    "# syntax :-\n",
    "'''\n",
    "==>> Structure for writing a program\n",
    "'''\n",
    "# Program\n",
    "'''\n",
    "==>> Collection of instructions to do any one specific task\n",
    "'''\n",
    "# Instruction\n",
    "'''\n",
    "with in the program, each and every line is instruction\n",
    "There are 2 types\n",
    "1. Comment\n",
    "2. Statement- --> which can be executable part\n",
    "'''\n",
    "# Comment\n",
    "'''\n",
    "==>> with in the program , for understanfing we can write some explantion for each and and every statement\n",
    "# which cana't be executable\n",
    "1. single line comment\n",
    "2. Multiline comment\n",
    "'''\n",
    "print \"hello\"\n",
    "print \"hai\"\n",
    "print \"bye\""
   ]
  },
  {
   "cell_type": "code",
   "execution_count": 2,
   "metadata": {},
   "outputs": [
    {
     "name": "stdout",
     "output_type": "stream",
     "text": [
      "['and', 'as', 'assert', 'break', 'class', 'continue', 'def', 'del', 'elif', 'else', 'except', 'exec', 'finally', 'for', 'from', 'global', 'if', 'import', 'in', 'is', 'lambda', 'not', 'or', 'pass', 'print', 'raise', 'return', 'try', 'while', 'with', 'yield']\n"
     ]
    }
   ],
   "source": [
    "# keywords \n",
    "'''\n",
    "--> which are special word with in python\n",
    "--> each and every keyword which having its own specific task\n",
    "# if , else , elif , while, for , break, continue, and , or , not\n",
    "try , except\n",
    "'''\n",
    "import keyword\n",
    "print keyword.kwlist"
   ]
  },
  {
   "cell_type": "code",
   "execution_count": 3,
   "metadata": {},
   "outputs": [
    {
     "name": "stdout",
     "output_type": "stream",
     "text": [
      "123\n"
     ]
    }
   ],
   "source": [
    "# Identifiers\n",
    "'''\n",
    "==>. Programmer / user defined words\n",
    "==>> To give the name entities for variable, funcions, classes\n",
    "'''\n",
    "# Rules\n",
    "'''\n",
    "==>> We can use the alphabets\n",
    "==>> we can use digits \n",
    "==>> we can use underscore\n",
    "==>> don't start with digit\n",
    "==>> don't use keywords\n",
    "==>> don't use special character\n",
    "'''\n",
    "# variable\n",
    "'''\n",
    "==>> Its an indentifier\n",
    "==>> to hold thee data with in memory loc\n",
    "==>> In python we can directly assign the data\n",
    "'''\n",
    "var =123\n",
    "print var"
   ]
  },
  {
   "cell_type": "code",
   "execution_count": 4,
   "metadata": {},
   "outputs": [
    {
     "name": "stdout",
     "output_type": "stream",
     "text": [
      "456\n"
     ]
    }
   ],
   "source": [
    "Va_3 = 456\n",
    "print Va_3"
   ]
  },
  {
   "cell_type": "code",
   "execution_count": 5,
   "metadata": {},
   "outputs": [
    {
     "ename": "SyntaxError",
     "evalue": "invalid syntax (<ipython-input-5-62edfb122109>, line 1)",
     "output_type": "error",
     "traceback": [
      "\u001b[1;36m  File \u001b[1;32m\"<ipython-input-5-62edfb122109>\"\u001b[1;36m, line \u001b[1;32m1\u001b[0m\n\u001b[1;33m    5var =1234\u001b[0m\n\u001b[1;37m       ^\u001b[0m\n\u001b[1;31mSyntaxError\u001b[0m\u001b[1;31m:\u001b[0m invalid syntax\n"
     ]
    }
   ],
   "source": [
    "5var =1234 # start with digit"
   ]
  },
  {
   "cell_type": "code",
   "execution_count": 6,
   "metadata": {},
   "outputs": [
    {
     "ename": "SyntaxError",
     "evalue": "invalid syntax (<ipython-input-6-ea4696ace171>, line 1)",
     "output_type": "error",
     "traceback": [
      "\u001b[1;36m  File \u001b[1;32m\"<ipython-input-6-ea4696ace171>\"\u001b[1;36m, line \u001b[1;32m1\u001b[0m\n\u001b[1;33m    v@t = 234\u001b[0m\n\u001b[1;37m     ^\u001b[0m\n\u001b[1;31mSyntaxError\u001b[0m\u001b[1;31m:\u001b[0m invalid syntax\n"
     ]
    }
   ],
   "source": [
    "v@t = 234 # special character"
   ]
  },
  {
   "cell_type": "code",
   "execution_count": 7,
   "metadata": {},
   "outputs": [
    {
     "ename": "SyntaxError",
     "evalue": "invalid syntax (<ipython-input-7-33aa400b4e25>, line 1)",
     "output_type": "error",
     "traceback": [
      "\u001b[1;36m  File \u001b[1;32m\"<ipython-input-7-33aa400b4e25>\"\u001b[1;36m, line \u001b[1;32m1\u001b[0m\n\u001b[1;33m    while = 1234\u001b[0m\n\u001b[1;37m          ^\u001b[0m\n\u001b[1;31mSyntaxError\u001b[0m\u001b[1;31m:\u001b[0m invalid syntax\n"
     ]
    }
   ],
   "source": [
    "while = 1234  # keyword\n",
    "print while"
   ]
  },
  {
   "cell_type": "code",
   "execution_count": 8,
   "metadata": {},
   "outputs": [
    {
     "name": "stdout",
     "output_type": "stream",
     "text": [
      "<type 'int'>\n",
      "<type 'int'>\n",
      "<type 'int'>\n"
     ]
    }
   ],
   "source": [
    "# datatype\n",
    "# type(varianle_name) --> datatype of variable\n",
    "'''\n",
    "==>> we can specify what type of data holded by variable\n",
    "'''\n",
    "# there are 2 types\n",
    "'''\n",
    "1. fundamental datatype\n",
    "\n",
    "2. Sequencial datatype\n",
    "'''\n",
    "# fundamental datatype\n",
    "'''\n",
    "==>> A single variable can hold single data\n",
    "1. int  ---> all real numbers\n",
    "2. float --> all real floating point number\n",
    "3. complex -> real + img  ---> X + Yj\n",
    "4. bool  ---> True , False\n",
    "5. Nonetype -> None\n",
    "'''\n",
    "# int \n",
    "var = 123\n",
    "print type(var)\n",
    "var = -12\n",
    "print type(var)\n",
    "var = 0\n",
    "print type(var)"
   ]
  },
  {
   "cell_type": "code",
   "execution_count": 9,
   "metadata": {},
   "outputs": [
    {
     "name": "stdout",
     "output_type": "stream",
     "text": [
      "<type 'float'>\n",
      "<type 'float'>\n",
      "<type 'float'>\n"
     ]
    }
   ],
   "source": [
    "# float \n",
    "var = 12.53\n",
    "print type(var)\n",
    "var = -12.5455\n",
    "print type(var)\n",
    "var = 0.0\n",
    "print type(var)"
   ]
  },
  {
   "cell_type": "code",
   "execution_count": 10,
   "metadata": {},
   "outputs": [
    {
     "name": "stdout",
     "output_type": "stream",
     "text": [
      "<type 'complex'>\n",
      "<type 'complex'>\n",
      "<type 'complex'>\n"
     ]
    }
   ],
   "source": [
    "# complex \n",
    "var = 12 + 3j\n",
    "print type(var)\n",
    "var = -1.9 + 2j\n",
    "print type(var)\n",
    "var = 0 + 0j\n",
    "print type(var)"
   ]
  },
  {
   "cell_type": "code",
   "execution_count": 11,
   "metadata": {},
   "outputs": [
    {
     "name": "stdout",
     "output_type": "stream",
     "text": [
      "<type 'bool'>\n",
      "<type 'bool'>\n",
      "<type 'NoneType'>\n"
     ]
    }
   ],
   "source": [
    "# Bool\n",
    "var = True\n",
    "print type(var)\n",
    "var = False\n",
    "print type(var)\n",
    "# None Type\n",
    "var = None\n",
    "print type(var)"
   ]
  },
  {
   "cell_type": "code",
   "execution_count": 12,
   "metadata": {},
   "outputs": [
    {
     "name": "stdout",
     "output_type": "stream",
     "text": [
      "<type 'str'>\n",
      "<type 'list'>\n",
      "<type 'tuple'>\n",
      "<type 'set'>\n",
      "<type 'dict'>\n"
     ]
    }
   ],
   "source": [
    "# sequntial datatype\n",
    "'''\n",
    "-->> A single variable can hold multiple data elements\n",
    "1. str --> group of character  \"\"\n",
    "2. list --> collection of data elements  []\n",
    "3. tuple --> collection of data elements  ()\n",
    "4. set--> collection of data elements  {}\n",
    "5. dict--> collection of data items --> key: value--> {}\n",
    "'''\n",
    "var = \"python program\"\n",
    "print type(var)\n",
    "var = [12,4.34 ,4+5j]\n",
    "print type(var)\n",
    "var = (12,4.34 ,4+5j)\n",
    "print type(var)\n",
    "var = {12,4.34 ,4+5j}\n",
    "print type(var)\n",
    "var = {12 : 4555  ,4.34 :67 ,4+5j : 89}\n",
    "print type(var)"
   ]
  },
  {
   "cell_type": "code",
   "execution_count": null,
   "metadata": {},
   "outputs": [],
   "source": []
  }
 ],
 "metadata": {
  "kernelspec": {
   "display_name": "Python 2",
   "language": "python",
   "name": "python2"
  },
  "language_info": {
   "codemirror_mode": {
    "name": "ipython",
    "version": 2
   },
   "file_extension": ".py",
   "mimetype": "text/x-python",
   "name": "python",
   "nbconvert_exporter": "python",
   "pygments_lexer": "ipython2",
   "version": "2.7.16"
  }
 },
 "nbformat": 4,
 "nbformat_minor": 2
}
