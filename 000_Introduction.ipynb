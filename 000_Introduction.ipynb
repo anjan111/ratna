{
 "cells": [
  {
   "cell_type": "code",
   "execution_count": 1,
   "metadata": {},
   "outputs": [
    {
     "name": "stdout",
     "output_type": "stream",
     "text": [
      "hello\n",
      "hai\n"
     ]
    }
   ],
   "source": [
    "print \"hello\"\n",
    "print \"hai\""
   ]
  },
  {
   "cell_type": "code",
   "execution_count": 2,
   "metadata": {},
   "outputs": [
    {
     "name": "stdout",
     "output_type": "stream",
     "text": [
      "123\n"
     ]
    }
   ],
   "source": [
    "var = 123\n",
    "print var"
   ]
  },
  {
   "cell_type": "code",
   "execution_count": null,
   "metadata": {},
   "outputs": [],
   "source": [
    "######## python \n",
    "\n",
    "1. Part 1  --> python 50% --->> concept ( Theory + examples (live sesssion) + assignment)\n",
    "\n",
    "                  ===>> Mid Level exam ---> 80%\n",
    "                  ===>> Project Idea 1\n",
    "\n",
    "\n",
    "2. Part 2--> python 50% --->> concept ( Theory + examples (live sesssion) + assignment)\n",
    "                  ==>> Project Impl\n",
    "                  ==>> Final Level exam ===>> 80%\n",
    "                 ===>> Project Idea -\n",
    "\n",
    "===>>> 45 to 60 hours\n",
    "===>>> Classes Recorded ---> i can share with \n",
    "===>>> Notes + documents + examples + assignment+ projects+====>>> github"
   ]
  }
 ],
 "metadata": {
  "kernelspec": {
   "display_name": "Python 2",
   "language": "python",
   "name": "python2"
  },
  "language_info": {
   "codemirror_mode": {
    "name": "ipython",
    "version": 2
   },
   "file_extension": ".py",
   "mimetype": "text/x-python",
   "name": "python",
   "nbconvert_exporter": "python",
   "pygments_lexer": "ipython2",
   "version": "2.7.16"
  }
 },
 "nbformat": 4,
 "nbformat_minor": 2
}
